{
 "cells": [
  {
   "cell_type": "code",
   "execution_count": 1,
   "metadata": {},
   "outputs": [
    {
     "name": "stderr",
     "output_type": "stream",
     "text": [
      "/Library/Frameworks/Python.framework/Versions/3.6/lib/python3.6/site-packages/psycopg2/__init__.py:144: UserWarning: The psycopg2 wheel package will be renamed from release 2.8; in order to keep installing from binary please use \"pip install psycopg2-binary\" instead. For details see: <http://initd.org/psycopg/docs/install.html#binary-install-from-pypi>.\n",
      "  \"\"\")\n"
     ]
    }
   ],
   "source": [
    "import pandas as pd\n",
    "from src.SQLIO import SQLIO\n",
    "from Analysis.Mail import Mail"
   ]
  },
  {
   "cell_type": "code",
   "execution_count": 2,
   "metadata": {},
   "outputs": [],
   "source": [
    "def get_lectures(professor_name):\n",
    "    sql_io = SQLIO()\n",
    "    lectures = sql_io.select(attribute=\"von,bis,wochentag, titel\", table= 'termine', where = \"verantwortlicher like '%{}%' and rhythmus = 'wöchentlich'\".format(professor_name))\n",
    "    return lectures"
   ]
  },
  {
   "cell_type": "code",
   "execution_count": 3,
   "metadata": {},
   "outputs": [
    {
     "data": {
      "text/plain": [
       "[('12:00', '14:00', 'Mo', 'Elementare Stochastik'),\n",
       " ('12:00', '14:00', 'Do', 'Elementare Stochastik')]"
      ]
     },
     "execution_count": 3,
     "metadata": {},
     "output_type": "execute_result"
    }
   ],
   "source": [
    "lectures = get_lectures('Holz')\n",
    "lectures"
   ]
  },
  {
   "cell_type": "code",
   "execution_count": 4,
   "metadata": {},
   "outputs": [],
   "source": [
    "def get_konflikte(lectures):\n",
    "    headers = ['Anzeigen', 'Titel', 'Verantwortlicher', 'Wochentag', 'Von', 'Bis', 'Raum', 'Startdatum', 'Enddatum']\n",
    "    res = {}\n",
    "    for lecture in lectures:\n",
    "        sql_io = SQLIO()\n",
    "        konflikte = pd.DataFrame(sql_io.select(where = 'True order by anzeigen', attribute = 'distinct *', table = \"konflikte_during('{}','{}','{}')\".format(lecture[0], lecture[1], lecture[2])), columns = headers)\n",
    "        res['{}:{}'.format(lecture[3], lecture[2])] = konflikte \n",
    "    return res"
   ]
  },
  {
   "cell_type": "code",
   "execution_count": 5,
   "metadata": {},
   "outputs": [
    {
     "data": {
      "text/html": [
       "<div>\n",
       "<style scoped>\n",
       "    .dataframe tbody tr th:only-of-type {\n",
       "        vertical-align: middle;\n",
       "    }\n",
       "\n",
       "    .dataframe tbody tr th {\n",
       "        vertical-align: top;\n",
       "    }\n",
       "\n",
       "    .dataframe thead th {\n",
       "        text-align: right;\n",
       "    }\n",
       "</style>\n",
       "<table border=\"1\" class=\"dataframe\">\n",
       "  <thead>\n",
       "    <tr style=\"text-align: right;\">\n",
       "      <th></th>\n",
       "      <th>Anzeigen</th>\n",
       "      <th>Titel</th>\n",
       "      <th>Verantwortlicher</th>\n",
       "      <th>Wochentag</th>\n",
       "      <th>Von</th>\n",
       "      <th>Bis</th>\n",
       "      <th>Raum</th>\n",
       "      <th>Startdatum</th>\n",
       "      <th>Enddatum</th>\n",
       "    </tr>\n",
       "  </thead>\n",
       "  <tbody>\n",
       "    <tr>\n",
       "      <th>0</th>\n",
       "      <td>1</td>\n",
       "      <td>Elementare Stochastik</td>\n",
       "      <td>Prof. Dr. Hajo Holzmann</td>\n",
       "      <td>Do</td>\n",
       "      <td>12:00</td>\n",
       "      <td>14:00</td>\n",
       "      <td>00/0030 (00/0030) (Biegenstrasse 14, Hörsaalge...</td>\n",
       "      <td>18.10.2018</td>\n",
       "      <td>14.02.2019</td>\n",
       "    </tr>\n",
       "    <tr>\n",
       "      <th>1</th>\n",
       "      <td>1</td>\n",
       "      <td>Logik</td>\n",
       "      <td>Prof. Dr. Heinz-Peter Gumm</td>\n",
       "      <td>Do</td>\n",
       "      <td>12:00</td>\n",
       "      <td>14:00</td>\n",
       "      <td>+5/0010 (HS B) (Hans-Meerwein-Strasse 8, Hörsa...</td>\n",
       "      <td>18.10.2018</td>\n",
       "      <td>14.02.2019</td>\n",
       "    </tr>\n",
       "    <tr>\n",
       "      <th>2</th>\n",
       "      <td>None</td>\n",
       "      <td>Einführung in die Didaktik der Informatik</td>\n",
       "      <td>Michael Szabo</td>\n",
       "      <td>Do</td>\n",
       "      <td>12:00</td>\n",
       "      <td>14:00</td>\n",
       "      <td>03A10 (SR VI) (Hans-Meerwein-Strasse 6, Mehrzw...</td>\n",
       "      <td>18.10.2018</td>\n",
       "      <td>14.02.2019</td>\n",
       "    </tr>\n",
       "    <tr>\n",
       "      <th>3</th>\n",
       "      <td>None</td>\n",
       "      <td>Numerik von Differentialgleichungen</td>\n",
       "      <td>Prof. Dr. Stephan Dahlke</td>\n",
       "      <td>Do</td>\n",
       "      <td>12:15</td>\n",
       "      <td>14:00</td>\n",
       "      <td>04A30 (HS IV A4) (Hans-Meerwein-Strasse 6, Meh...</td>\n",
       "      <td>18.10.2018</td>\n",
       "      <td>14.02.2019</td>\n",
       "    </tr>\n",
       "    <tr>\n",
       "      <th>4</th>\n",
       "      <td>None</td>\n",
       "      <td>Seminar über aktuelle Themen der Geometrie</td>\n",
       "      <td>Prof. Dr. Ilka Agricola\\nProf. Dr. Oliver Goer...</td>\n",
       "      <td>Do</td>\n",
       "      <td>12:15</td>\n",
       "      <td>14:00</td>\n",
       "      <td>05A35 (SR IV A5) (Hans-Meerwein-Strasse 6, Meh...</td>\n",
       "      <td>18.10.2018</td>\n",
       "      <td>14.02.2019</td>\n",
       "    </tr>\n",
       "    <tr>\n",
       "      <th>5</th>\n",
       "      <td>None</td>\n",
       "      <td>Übungen zu Musikdatenanalyse</td>\n",
       "      <td>Dr. Peter Lüttig</td>\n",
       "      <td>Do</td>\n",
       "      <td>12:00</td>\n",
       "      <td>14:00</td>\n",
       "      <td>04C01 (SR XIV C4) (Hans-Meerwein-Strasse 6, Me...</td>\n",
       "      <td>18.10.2018</td>\n",
       "      <td>14.02.2019</td>\n",
       "    </tr>\n",
       "  </tbody>\n",
       "</table>\n",
       "</div>"
      ],
      "text/plain": [
       "  Anzeigen                                       Titel  \\\n",
       "0        1                       Elementare Stochastik   \n",
       "1        1                                       Logik   \n",
       "2     None   Einführung in die Didaktik der Informatik   \n",
       "3     None         Numerik von Differentialgleichungen   \n",
       "4     None  Seminar über aktuelle Themen der Geometrie   \n",
       "5     None                Übungen zu Musikdatenanalyse   \n",
       "\n",
       "                                    Verantwortlicher Wochentag    Von    Bis  \\\n",
       "0                            Prof. Dr. Hajo Holzmann        Do  12:00  14:00   \n",
       "1                         Prof. Dr. Heinz-Peter Gumm        Do  12:00  14:00   \n",
       "2                                      Michael Szabo        Do  12:00  14:00   \n",
       "3                           Prof. Dr. Stephan Dahlke        Do  12:15  14:00   \n",
       "4  Prof. Dr. Ilka Agricola\\nProf. Dr. Oliver Goer...        Do  12:15  14:00   \n",
       "5                                   Dr. Peter Lüttig        Do  12:00  14:00   \n",
       "\n",
       "                                                Raum  Startdatum    Enddatum  \n",
       "0  00/0030 (00/0030) (Biegenstrasse 14, Hörsaalge...  18.10.2018  14.02.2019  \n",
       "1  +5/0010 (HS B) (Hans-Meerwein-Strasse 8, Hörsa...  18.10.2018  14.02.2019  \n",
       "2  03A10 (SR VI) (Hans-Meerwein-Strasse 6, Mehrzw...  18.10.2018  14.02.2019  \n",
       "3  04A30 (HS IV A4) (Hans-Meerwein-Strasse 6, Meh...  18.10.2018  14.02.2019  \n",
       "4  05A35 (SR IV A5) (Hans-Meerwein-Strasse 6, Meh...  18.10.2018  14.02.2019  \n",
       "5  04C01 (SR XIV C4) (Hans-Meerwein-Strasse 6, Me...  18.10.2018  14.02.2019  "
      ]
     },
     "execution_count": 5,
     "metadata": {},
     "output_type": "execute_result"
    }
   ],
   "source": [
    "konflikte = get_konflikte(lectures)\n",
    "for key in konflikte:\n",
    "    df = konflikte[key]\n",
    "df"
   ]
  },
  {
   "cell_type": "code",
   "execution_count": 9,
   "metadata": {},
   "outputs": [],
   "source": [
    "\n",
    "body += \"\"\"<html>\n",
    "  <head>th {border: 1px solid black;width: 65px;} td {border: 1px solid black;} table {border-collapse: collapse;border: 1px solid black;}</head>\n",
    "  <body>\n",
    "    {0}\n",
    "  </body>\n",
    "</html>\n",
    "\"\"\".format(df.to_html())\n",
    "Mail.send(body)"
   ]
  },
  {
   "cell_type": "code",
   "execution_count": null,
   "metadata": {},
   "outputs": [],
   "source": []
  }
 ],
 "metadata": {
  "kernelspec": {
   "display_name": "Python 3",
   "language": "python",
   "name": "python3"
  },
  "language_info": {
   "codemirror_mode": {
    "name": "ipython",
    "version": 3
   },
   "file_extension": ".py",
   "mimetype": "text/x-python",
   "name": "python",
   "nbconvert_exporter": "python",
   "pygments_lexer": "ipython3",
   "version": "3.6.5"
  }
 },
 "nbformat": 4,
 "nbformat_minor": 2
}
