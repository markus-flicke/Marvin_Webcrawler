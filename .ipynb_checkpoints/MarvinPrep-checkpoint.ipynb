{
 "cells": [
  {
   "cell_type": "markdown",
   "metadata": {},
   "source": [
    "<img src=\"upload.png\">"
   ]
  },
  {
   "cell_type": "code",
   "execution_count": 1,
   "metadata": {},
   "outputs": [
    {
     "name": "stderr",
     "output_type": "stream",
     "text": [
      "/Library/Frameworks/Python.framework/Versions/3.6/lib/python3.6/site-packages/psycopg2/__init__.py:144: UserWarning: The psycopg2 wheel package will be renamed from release 2.8; in order to keep installing from binary please use \"pip install psycopg2-binary\" instead. For details see: <http://initd.org/psycopg/docs/install.html#binary-install-from-pypi>.\n",
      "  \"\"\")\n"
     ]
    }
   ],
   "source": [
    "import pandas as pd\n",
    "from src.Navigator import Navigator\n",
    "from src.EventReader import EventReader\n",
    "from src.SQLIO import SQLIO\n",
    "from src.EventWriter import EventWriter"
   ]
  },
  {
   "cell_type": "code",
   "execution_count": 2,
   "metadata": {},
   "outputs": [],
   "source": [
    "url = \"https://marvin.uni-marburg.de:443/qisserver/pages/startFlow.xhtml?_flowId=detailView-flow&unitId=10583&periodId=76\""
   ]
  },
  {
   "cell_type": "code",
   "execution_count": 3,
   "metadata": {},
   "outputs": [],
   "source": [
    "n = Navigator(True)\n",
    "n.get(url)\n",
    "e = EventReader(n)\n",
    "res = e.read()"
   ]
  },
  {
   "cell_type": "code",
   "execution_count": 4,
   "metadata": {},
   "outputs": [],
   "source": [
    "# w = EventWriter()\n",
    "# w.write(res)"
   ]
  },
  {
   "cell_type": "code",
   "execution_count": 5,
   "metadata": {},
   "outputs": [
    {
     "data": {
      "text/plain": [
       "{'Titel': 'Objektorientierte Programmierung',\n",
       " 'Langtext': 'Objektorientierte Programmierung',\n",
       " 'Nummer': 'LV-12-079-094',\n",
       " 'Organisationseinheit': 'Fb12 Mathematik und Informatik (Verantwortlicher)',\n",
       " 'Veranstaltungsart': 'Vorlesung',\n",
       " 'Angebotshäufigkeit': 'Unregelmäßig',\n",
       " 'Semesterwochenstunden': '4.0'}"
      ]
     },
     "execution_count": 5,
     "metadata": {},
     "output_type": "execute_result"
    }
   ],
   "source": [
    "res.get('grunddaten')"
   ]
  },
  {
   "cell_type": "code",
   "execution_count": 6,
   "metadata": {},
   "outputs": [
    {
     "data": {
      "text/plain": [
       "{'Semesterwochenstunden': '4.0',\n",
       " 'Verantwortliche/-r': 'Prof. Dr. Christoph-Matthias Bockisch'}"
      ]
     },
     "execution_count": 6,
     "metadata": {},
     "output_type": "execute_result"
    }
   ],
   "source": [
    "res.get('termine')[0]"
   ]
  },
  {
   "cell_type": "code",
   "execution_count": 7,
   "metadata": {},
   "outputs": [
    {
     "data": {
      "text/html": [
       "<div>\n",
       "<style scoped>\n",
       "    .dataframe tbody tr th:only-of-type {\n",
       "        vertical-align: middle;\n",
       "    }\n",
       "\n",
       "    .dataframe tbody tr th {\n",
       "        vertical-align: top;\n",
       "    }\n",
       "\n",
       "    .dataframe thead th {\n",
       "        text-align: right;\n",
       "    }\n",
       "</style>\n",
       "<table border=\"1\" class=\"dataframe\">\n",
       "  <thead>\n",
       "    <tr style=\"text-align: right;\">\n",
       "      <th></th>\n",
       "      <th>Rhythmus</th>\n",
       "      <th>Wochentag</th>\n",
       "      <th>Von - Bis</th>\n",
       "      <th>Ausfalltermin</th>\n",
       "      <th>Startdatum - Enddatum</th>\n",
       "      <th>Erw. Tn.</th>\n",
       "      <th>Bemerkung</th>\n",
       "      <th>Durchführende/-r</th>\n",
       "      <th>Raum</th>\n",
       "    </tr>\n",
       "  </thead>\n",
       "  <tbody>\n",
       "    <tr>\n",
       "      <th>0</th>\n",
       "      <td>wöchentlich</td>\n",
       "      <td>Mo</td>\n",
       "      <td>12:00 - 14:00 c.t.</td>\n",
       "      <td></td>\n",
       "      <td>15.10.2018 - 11.02.2019</td>\n",
       "      <td>Erw. Tn.</td>\n",
       "      <td></td>\n",
       "      <td></td>\n",
       "      <td>+1/0020 (+1/0020) (Biegenstrasse 14, Hörsaalge...</td>\n",
       "    </tr>\n",
       "    <tr>\n",
       "      <th>1</th>\n",
       "      <td>Einzeltermin</td>\n",
       "      <td>Mi</td>\n",
       "      <td>12:15 - 14:00 c.t.</td>\n",
       "      <td></td>\n",
       "      <td>17.10.2018</td>\n",
       "      <td>Erw. Tn.</td>\n",
       "      <td></td>\n",
       "      <td></td>\n",
       "      <td>+2/0010 (Audimax) (Biegenstrasse 14, Hörsaalge...</td>\n",
       "    </tr>\n",
       "    <tr>\n",
       "      <th>2</th>\n",
       "      <td>wöchentlich</td>\n",
       "      <td>Mi</td>\n",
       "      <td>12:00 - 14:00 c.t.</td>\n",
       "      <td></td>\n",
       "      <td>24.10.2018 - 23.01.2019</td>\n",
       "      <td>Erw. Tn.</td>\n",
       "      <td></td>\n",
       "      <td></td>\n",
       "      <td>00/0030 (00/0030) (Biegenstrasse 14, Hörsaalge...</td>\n",
       "    </tr>\n",
       "    <tr>\n",
       "      <th>3</th>\n",
       "      <td>wöchentlich</td>\n",
       "      <td>Mi</td>\n",
       "      <td>12:00 - 14:00 c.t.</td>\n",
       "      <td></td>\n",
       "      <td>30.01.2019 - 13.02.2019</td>\n",
       "      <td>Erw. Tn.</td>\n",
       "      <td></td>\n",
       "      <td></td>\n",
       "      <td>00/0020 (00/0020) (Biegenstrasse 14, Hörsaalge...</td>\n",
       "    </tr>\n",
       "    <tr>\n",
       "      <th>4</th>\n",
       "      <td>Einzeltermin</td>\n",
       "      <td>Mi</td>\n",
       "      <td>16:00 - 19:00 c.t.</td>\n",
       "      <td></td>\n",
       "      <td>13.02.2019</td>\n",
       "      <td>Erw. Tn.</td>\n",
       "      <td>Abschlussklausur!</td>\n",
       "      <td></td>\n",
       "      <td>+1/0020 (+1/0020) (Biegenstrasse 14, Hörsaalge...</td>\n",
       "    </tr>\n",
       "    <tr>\n",
       "      <th>5</th>\n",
       "      <td>Einzeltermin</td>\n",
       "      <td>Mo</td>\n",
       "      <td>12:00 - 15:00 c.t.</td>\n",
       "      <td></td>\n",
       "      <td>18.03.2019</td>\n",
       "      <td>Erw. Tn.</td>\n",
       "      <td>Nachholklausur!</td>\n",
       "      <td></td>\n",
       "      <td>+5/0030 (HS A) (Hans-Meerwein-Strasse 8, Hörsa...</td>\n",
       "    </tr>\n",
       "  </tbody>\n",
       "</table>\n",
       "</div>"
      ],
      "text/plain": [
       "       Rhythmus Wochentag           Von - Bis Ausfalltermin  \\\n",
       "0   wöchentlich        Mo  12:00 - 14:00 c.t.                 \n",
       "1  Einzeltermin        Mi  12:15 - 14:00 c.t.                 \n",
       "2   wöchentlich        Mi  12:00 - 14:00 c.t.                 \n",
       "3   wöchentlich        Mi  12:00 - 14:00 c.t.                 \n",
       "4  Einzeltermin        Mi  16:00 - 19:00 c.t.                 \n",
       "5  Einzeltermin        Mo  12:00 - 15:00 c.t.                 \n",
       "\n",
       "     Startdatum - Enddatum \\nErw. Tn.          Bemerkung Durchführende/-r  \\\n",
       "0  15.10.2018 - 11.02.2019   Erw. Tn.                                       \n",
       "1               17.10.2018   Erw. Tn.                                       \n",
       "2  24.10.2018 - 23.01.2019   Erw. Tn.                                       \n",
       "3  30.01.2019 - 13.02.2019   Erw. Tn.                                       \n",
       "4               13.02.2019   Erw. Tn.  Abschlussklausur!                    \n",
       "5               18.03.2019   Erw. Tn.    Nachholklausur!                    \n",
       "\n",
       "                                                Raum  \n",
       "0  +1/0020 (+1/0020) (Biegenstrasse 14, Hörsaalge...  \n",
       "1  +2/0010 (Audimax) (Biegenstrasse 14, Hörsaalge...  \n",
       "2  00/0030 (00/0030) (Biegenstrasse 14, Hörsaalge...  \n",
       "3  00/0020 (00/0020) (Biegenstrasse 14, Hörsaalge...  \n",
       "4  +1/0020 (+1/0020) (Biegenstrasse 14, Hörsaalge...  \n",
       "5  +5/0030 (HS A) (Hans-Meerwein-Strasse 8, Hörsa...  "
      ]
     },
     "execution_count": 7,
     "metadata": {},
     "output_type": "execute_result"
    }
   ],
   "source": [
    "res.get('termine')[1]"
   ]
  },
  {
   "cell_type": "code",
   "execution_count": 8,
   "metadata": {},
   "outputs": [
    {
     "data": {
      "text/html": [
       "<div>\n",
       "<style scoped>\n",
       "    .dataframe tbody tr th:only-of-type {\n",
       "        vertical-align: middle;\n",
       "    }\n",
       "\n",
       "    .dataframe tbody tr th {\n",
       "        vertical-align: top;\n",
       "    }\n",
       "\n",
       "    .dataframe thead th {\n",
       "        text-align: right;\n",
       "    }\n",
       "</style>\n",
       "<table border=\"1\" class=\"dataframe\">\n",
       "  <thead>\n",
       "    <tr style=\"text-align: right;\">\n",
       "      <th></th>\n",
       "      <th>Modulnummer</th>\n",
       "      <th>Modulname (Kurztext)</th>\n",
       "      <th>Modulname</th>\n",
       "      <th>Angebotshäufigkeit</th>\n",
       "    </tr>\n",
       "  </thead>\n",
       "  <tbody>\n",
       "    <tr>\n",
       "      <th>0</th>\n",
       "      <td>120791100</td>\n",
       "      <td>CS 110</td>\n",
       "      <td>CS 110 - Praktische Informatik I: Programmierung</td>\n",
       "      <td>nur im Wintersemester</td>\n",
       "    </tr>\n",
       "    <tr>\n",
       "      <th>1</th>\n",
       "      <td>128220030</td>\n",
       "      <td>CS110</td>\n",
       "      <td>Objektorientierte Programmierung</td>\n",
       "      <td></td>\n",
       "    </tr>\n",
       "    <tr>\n",
       "      <th>2</th>\n",
       "      <td>12820110</td>\n",
       "      <td>CS 110</td>\n",
       "      <td>Praktische Informatik I - Einführung in die P...</td>\n",
       "      <td>nur im Wintersemester</td>\n",
       "    </tr>\n",
       "  </tbody>\n",
       "</table>\n",
       "</div>"
      ],
      "text/plain": [
       "  Modulnummer Modulname (Kurztext)  \\\n",
       "0   120791100               CS 110   \n",
       "1   128220030                CS110   \n",
       "2    12820110               CS 110   \n",
       "\n",
       "                                           Modulname     Angebotshäufigkeit  \n",
       "0   CS 110 - Praktische Informatik I: Programmierung  nur im Wintersemester  \n",
       "1                   Objektorientierte Programmierung                         \n",
       "2   Praktische Informatik I - Einführung in die P...  nur im Wintersemester  "
      ]
     },
     "execution_count": 8,
     "metadata": {},
     "output_type": "execute_result"
    }
   ],
   "source": [
    "res.get('module')"
   ]
  },
  {
   "cell_type": "code",
   "execution_count": 9,
   "metadata": {},
   "outputs": [],
   "source": [
    "sql_io = SQLIO()\n",
    "\n",
    "sql_io.commit()"
   ]
  },
  {
   "cell_type": "code",
   "execution_count": 10,
   "metadata": {},
   "outputs": [],
   "source": [
    "sql_io = SQLIO()\n"
   ]
  },
  {
   "cell_type": "code",
   "execution_count": 11,
   "metadata": {},
   "outputs": [
    {
     "ename": "DataError",
     "evalue": "invalid input syntax for integer: \"Objektorientierte Programmierung\"\nLINE 1: Insert into termine values(1,'Objektorientierte Programmieru...\n                                     ^\n",
     "output_type": "error",
     "traceback": [
      "\u001b[0;31m---------------------------------------------------------------------------\u001b[0m",
      "\u001b[0;31mDataError\u001b[0m                                 Traceback (most recent call last)",
      "\u001b[0;32m<ipython-input-11-1d8e4c93827b>\u001b[0m in \u001b[0;36m<module>\u001b[0;34m()\u001b[0m\n\u001b[1;32m     49\u001b[0m         \u001b[0mrow\u001b[0m\u001b[0;34m[\u001b[0m\u001b[0;34m'Bemerkung'\u001b[0m\u001b[0;34m]\u001b[0m\u001b[0;34m\u001b[0m\u001b[0m\n\u001b[1;32m     50\u001b[0m     ]\n\u001b[0;32m---> 51\u001b[0;31m     \u001b[0msql_io\u001b[0m\u001b[0;34m.\u001b[0m\u001b[0minsert_with_id\u001b[0m\u001b[0;34m(\u001b[0m\u001b[0;34m'termine'\u001b[0m\u001b[0;34m,\u001b[0m \u001b[0mvalues\u001b[0m\u001b[0;34m)\u001b[0m\u001b[0;34m\u001b[0m\u001b[0m\n\u001b[0m\u001b[1;32m     52\u001b[0m \u001b[0msql_io\u001b[0m\u001b[0;34m.\u001b[0m\u001b[0mcommit\u001b[0m\u001b[0;34m(\u001b[0m\u001b[0;34m)\u001b[0m\u001b[0;34m\u001b[0m\u001b[0m\n",
      "\u001b[0;32m~/Work/Marvin_Webcrawler/src/SQLIO.py\u001b[0m in \u001b[0;36minsert_with_id\u001b[0;34m(self, table, values, headers)\u001b[0m\n\u001b[1;32m     14\u001b[0m         \u001b[0;32mif\u001b[0m \u001b[0mheaders\u001b[0m\u001b[0;34m:\u001b[0m\u001b[0;34m\u001b[0m\u001b[0m\n\u001b[1;32m     15\u001b[0m             \u001b[0;32mreturn\u001b[0m \u001b[0mself\u001b[0m\u001b[0;34m.\u001b[0m\u001b[0mcur\u001b[0m\u001b[0;34m.\u001b[0m\u001b[0mexecute\u001b[0m\u001b[0;34m(\u001b[0m\u001b[0;34m\"Insert into {} ({}) Select '{},{}'\"\u001b[0m\u001b[0;34m.\u001b[0m\u001b[0mformat\u001b[0m\u001b[0;34m(\u001b[0m\u001b[0mtable\u001b[0m\u001b[0;34m,\u001b[0m \u001b[0;34m','\u001b[0m\u001b[0;34m.\u001b[0m\u001b[0mjoin\u001b[0m\u001b[0;34m(\u001b[0m\u001b[0mheaders\u001b[0m\u001b[0;34m)\u001b[0m\u001b[0;34m,\u001b[0m \u001b[0mstr\u001b[0m\u001b[0;34m(\u001b[0m\u001b[0mvalues\u001b[0m\u001b[0;34m[\u001b[0m\u001b[0;36m0\u001b[0m\u001b[0;34m]\u001b[0m\u001b[0;34m)\u001b[0m\u001b[0;34m,\u001b[0m \u001b[0;34m\"','\"\u001b[0m\u001b[0;34m.\u001b[0m\u001b[0mjoin\u001b[0m\u001b[0;34m(\u001b[0m\u001b[0mvalues\u001b[0m\u001b[0;34m[\u001b[0m\u001b[0;36m1\u001b[0m\u001b[0;34m:\u001b[0m\u001b[0;34m]\u001b[0m\u001b[0;34m)\u001b[0m\u001b[0;34m)\u001b[0m\u001b[0;34m)\u001b[0m\u001b[0;34m\u001b[0m\u001b[0m\n\u001b[0;32m---> 16\u001b[0;31m         \u001b[0;32mreturn\u001b[0m \u001b[0mself\u001b[0m\u001b[0;34m.\u001b[0m\u001b[0mcur\u001b[0m\u001b[0;34m.\u001b[0m\u001b[0mexecute\u001b[0m\u001b[0;34m(\u001b[0m\u001b[0;34m\"Insert into {} values({},'{}')\"\u001b[0m\u001b[0;34m.\u001b[0m\u001b[0mformat\u001b[0m\u001b[0;34m(\u001b[0m\u001b[0mtable\u001b[0m\u001b[0;34m,\u001b[0m \u001b[0mstr\u001b[0m\u001b[0;34m(\u001b[0m\u001b[0mvalues\u001b[0m\u001b[0;34m[\u001b[0m\u001b[0;36m0\u001b[0m\u001b[0;34m]\u001b[0m\u001b[0;34m)\u001b[0m\u001b[0;34m,\u001b[0m \u001b[0;34m\"','\"\u001b[0m\u001b[0;34m.\u001b[0m\u001b[0mjoin\u001b[0m\u001b[0;34m(\u001b[0m\u001b[0mvalues\u001b[0m\u001b[0;34m[\u001b[0m\u001b[0;36m1\u001b[0m\u001b[0;34m:\u001b[0m\u001b[0;34m]\u001b[0m\u001b[0;34m)\u001b[0m\u001b[0;34m)\u001b[0m\u001b[0;34m)\u001b[0m\u001b[0;34m\u001b[0m\u001b[0m\n\u001b[0m\u001b[1;32m     17\u001b[0m \u001b[0;34m\u001b[0m\u001b[0m\n\u001b[1;32m     18\u001b[0m     \u001b[0;32mdef\u001b[0m \u001b[0mselect\u001b[0m\u001b[0;34m(\u001b[0m\u001b[0mself\u001b[0m\u001b[0;34m,\u001b[0m \u001b[0mtable\u001b[0m\u001b[0;34m,\u001b[0m \u001b[0mattribute\u001b[0m \u001b[0;34m=\u001b[0m \u001b[0;32mFalse\u001b[0m\u001b[0;34m,\u001b[0m \u001b[0mwhere\u001b[0m \u001b[0;34m=\u001b[0m \u001b[0;32mFalse\u001b[0m\u001b[0;34m)\u001b[0m\u001b[0;34m:\u001b[0m\u001b[0;34m\u001b[0m\u001b[0m\n",
      "\u001b[0;31mDataError\u001b[0m: invalid input syntax for integer: \"Objektorientierte Programmierung\"\nLINE 1: Insert into termine values(1,'Objektorientierte Programmieru...\n                                     ^\n"
     ]
    }
   ],
   "source": [
    "df = res.get('termine')[1]\n",
    "grunddaten = res.get('grunddaten')\n",
    "termindaten = res.get('termine')[0]\n",
    "sql_io = SQLIO()\n",
    "veranstaltungsid = sql_io.select('veranstaltungen', 'veranstaltungsID', \"titel = '{}';\".format(grunddaten.get('Titel')))[0][0]\n",
    "\n",
    "for header in grunddaten:\n",
    "    df[header] = grunddaten[header]\n",
    "    \n",
    "for header in termindaten:\n",
    "    df[header] = termindaten[header]\n",
    "    \n",
    "df['Von'] = df['Von - Bis'].str.extract('([0-9]{2}:[0-9]{2})',expand = True)\n",
    "df['Bis'] = df['Von - Bis'].str.extract('.+([0-9]{2}:[0-9]{2})',expand = True)\n",
    "df['Startdatum'] = df['Startdatum - Enddatum'].str.extract('([0-9]{2}.[0-9]{2}.[0-9]{4})',expand = True)\n",
    "df['Enddatum'] = df['Startdatum - Enddatum'].str.extract('.+([0-9]{2}.[0-9]{2}.[0-9]{4})',expand = True)\n",
    "\n",
    "df = df.drop('Startdatum - Enddatum', axis = 1)\n",
    "df = df.drop('Von - Bis', axis = 1)\n",
    "df.columns = df.columns.map(lambda x: x.replace('\\n',''))\n",
    "df.columns = df.columns.map(lambda x: x.replace('.',''))\n",
    "sql_io = SQLIO()\n",
    "\n",
    "veranstaltungen_sql_headers = ['VeranstaltungsID','Titel','Verantwortlicher','Durchführender','Wochentag',\n",
    "                               'Von','Bis','Raum','Startdatum','Enddatum','Langtext','Nummer','Organisationseinheit',\n",
    "                               'Veranstaltungsart','Angebotshäufigkeit','Semesterwochenstunden','Rhythmus',\n",
    "                               'Ausfalltermin','Bemerkung']\n",
    "for i in df.index:\n",
    "    row = df.loc[i]\n",
    "    values = [\n",
    "        veranstaltungsid,\n",
    "        row['Titel'],\n",
    "        row['Verantwortliche/-r'],\n",
    "        row['Durchführende/-r'],\n",
    "        row['Wochentag'],\n",
    "        row['Von'],\n",
    "        row['Bis'],\n",
    "        row['Raum'],\n",
    "        row['Startdatum'],\n",
    "        row['Enddatum'],\n",
    "        row['Langtext'],\n",
    "        row['Nummer'],\n",
    "        row['Organisationseinheit'],\n",
    "        row['Veranstaltungsart'],\n",
    "        row['Angebotshäufigkeit'],\n",
    "        row['Semesterwochenstunden'],\n",
    "        row['Rhythmus'],\n",
    "        row['Ausfalltermin'],\n",
    "        row['Bemerkung']\n",
    "    ]\n",
    "    sql_io.insert_with_id('termine', values, veranstaltungen_sql_headers)\n",
    "sql_io.commit()"
   ]
  },
  {
   "cell_type": "code",
   "execution_count": null,
   "metadata": {},
   "outputs": [],
   "source": []
  }
 ],
 "metadata": {
  "kernelspec": {
   "display_name": "Python 3",
   "language": "python",
   "name": "python3"
  },
  "language_info": {
   "codemirror_mode": {
    "name": "ipython",
    "version": 3
   },
   "file_extension": ".py",
   "mimetype": "text/x-python",
   "name": "python",
   "nbconvert_exporter": "python",
   "pygments_lexer": "ipython3",
   "version": "3.6.5"
  }
 },
 "nbformat": 4,
 "nbformat_minor": 2
}
