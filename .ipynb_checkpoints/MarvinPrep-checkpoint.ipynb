{
 "cells": [
  {
   "cell_type": "code",
   "execution_count": 1,
   "metadata": {},
   "outputs": [
    {
     "name": "stderr",
     "output_type": "stream",
     "text": [
      "/Library/Frameworks/Python.framework/Versions/3.6/lib/python3.6/site-packages/psycopg2/__init__.py:144: UserWarning: The psycopg2 wheel package will be renamed from release 2.8; in order to keep installing from binary please use \"pip install psycopg2-binary\" instead. For details see: <http://initd.org/psycopg/docs/install.html#binary-install-from-pypi>.\n",
      "  \"\"\")\n"
     ]
    }
   ],
   "source": [
    "import pandas as pd\n",
    "from src.Navigator import Navigator\n",
    "from src.EventReader import EventReader\n",
    "from src.SQLIO import SQLIO\n",
    "from src.EventWriter import EventWriter\n",
    "from multiprocessing import Process\n",
    "import threading\n",
    "import time"
   ]
  },
  {
   "cell_type": "code",
   "execution_count": null,
   "metadata": {
    "scrolled": false
   },
   "outputs": [],
   "source": [
    "class MyThread(threading.Thread):\n",
    "    def __init__(self, name, page_nr, event_nr):\n",
    "        super().__init__()\n",
    "        self.page_nr = page_nr\n",
    "        self.event_nr = event_nr\n",
    "        self.name = name\n",
    "        \n",
    "    def run(self):\n",
    "        print(\"{} started!\".format(self.name) )\n",
    "        try:\n",
    "            self.crawl_event(self.page_nr, self.event_nr)  \n",
    "        except:\n",
    "            print(\"{} failed!\".format(self.name))\n",
    "            raise\n",
    "        print(\"{} finished!\".format(self.name))\n",
    "        \n",
    "    def crawl_event(self, page_nr, event_nr):\n",
    "        n = Navigator(True)\n",
    "        n.open_search()\n",
    "        n.go_to_page(page_nr)\n",
    "        n.open_event(event_nr)\n",
    "        e = EventReader(n)\n",
    "        event = e.read()\n",
    "        EventWriter.write(event)\n",
    "              \n",
    "              \n",
    "if __name__ == '__main__':\n",
    "    threads = []\n",
    "    for page_nr in range(1,3):\n",
    "        for event_nr in range(10):\n",
    "            print(threading.active_count())\n",
    "            while threading.active_count() < 20:\n",
    "                time.sleep(0.1)\n",
    "            \n",
    "            mythread = MyThread(name = \"Thread-(p={},e={})\".format(page_nr,event_nr), page_nr = page_nr, event_nr = event_nr) \n",
    "            mythread.start()\n",
    "            threads.append(mythread)\n",
    "        \n",
    "    for thread in threads:\n",
    "        thread.join()\n",
    "    print('done')"
   ]
  },
  {
   "cell_type": "code",
   "execution_count": null,
   "metadata": {},
   "outputs": [],
   "source": []
  }
 ],
 "metadata": {
  "kernelspec": {
   "display_name": "Python 3",
   "language": "python",
   "name": "python3"
  },
  "language_info": {
   "codemirror_mode": {
    "name": "ipython",
    "version": 3
   },
   "file_extension": ".py",
   "mimetype": "text/x-python",
   "name": "python",
   "nbconvert_exporter": "python",
   "pygments_lexer": "ipython3",
   "version": "3.6.5"
  }
 },
 "nbformat": 4,
 "nbformat_minor": 2
}
