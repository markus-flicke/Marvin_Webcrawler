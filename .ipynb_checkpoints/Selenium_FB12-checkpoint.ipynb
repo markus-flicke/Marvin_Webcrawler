{
 "cells": [
  {
   "cell_type": "markdown",
   "metadata": {},
   "source": [
    "<h1>Generalisation:<br> For FB12 -> Get all data</h1>"
   ]
  },
  {
   "cell_type": "code",
   "execution_count": 1,
   "metadata": {},
   "outputs": [],
   "source": [
    "from selenium import webdriver\n",
    "from selenium.webdriver.common.by import By\n",
    "from Classes.Event import Event\n",
    "import re\n",
    "import pandas as pd"
   ]
  },
  {
   "cell_type": "markdown",
   "metadata": {},
   "source": [
    "<h2>Navigate to FB12</h2>"
   ]
  },
  {
   "cell_type": "code",
   "execution_count": 2,
   "metadata": {},
   "outputs": [],
   "source": [
    "VORLESUNGSVERZEICHNIS = 'https://marvin.uni-marburg.de/qisserver/pages/cm/exa/coursecatalog/showCourseCatalog.xhtml?_flowId=showCourseCatalog-flow&_flowExecutionKey=e1s1'\n",
    "driver = webdriver.Chrome('/Users/m/uni/FoPra/chromedriver')\n",
    "driver.get(VORLESUNGSVERZEICHNIS)\n",
    "\n",
    "# Select Informatik\n",
    "elements_old = driver.find_elements(By.XPATH, '//button')\n",
    "elements_old[15].click()\n",
    "elements = driver.find_elements(By.XPATH, '//button')\n",
    "while elements_old == elements:\n",
    "    elements = driver.find_elements(By.XPATH, '//button')"
   ]
  },
  {
   "cell_type": "markdown",
   "metadata": {},
   "source": [
    "<h2>Expand All</h2>"
   ]
  },
  {
   "cell_type": "code",
   "execution_count": 3,
   "metadata": {},
   "outputs": [],
   "source": [
    "def expandall_button_id(idx):\n",
    "    return 'hierarchy:courseCatalogFieldset:courseCatalog:0:8:{}:j_id_40_25_62_2_2_2_2_2_1:expandAll_button'.format(idx)"
   ]
  },
  {
   "cell_type": "code",
   "execution_count": 4,
   "metadata": {},
   "outputs": [],
   "source": [
    "# Expand All\n",
    "for i in range(8):\n",
    "#     TODO: Generalise a way to find out N subtopics, required for future proof searching\n",
    "    pass\n",
    "\n",
    "for i in range(0,1):\n",
    "    i= 2\n",
    "    eles = driver.find_element(By.ID, expandall_button_id(i))\n",
    "    eles.click()\n",
    "    break"
   ]
  },
  {
   "cell_type": "markdown",
   "metadata": {},
   "source": [
    "<h2>Find all Event Page View IDs</h2>"
   ]
  },
  {
   "cell_type": "code",
   "execution_count": 13,
   "metadata": {},
   "outputs": [],
   "source": [
    "def find_all_detail_view_ids(html):\n",
    "    id_pattern = \"(hierarchy:courseCatalogFieldset:courseCatalog:[0-9]*?:[0-9]*?:[0-9]*?:[0-9]*?:[0-9]*?:showEventDateDetailVie\\w+?)\\\"\"\n",
    "    return set(re.findall(id_pattern, html))"
   ]
  },
  {
   "cell_type": "code",
   "execution_count": 14,
   "metadata": {},
   "outputs": [],
   "source": [
    "ids = find_all_detail_view_ids(driver.page_source)"
   ]
  },
  {
   "cell_type": "markdown",
   "metadata": {},
   "source": [
    "<h2>Traverse Event Views and write data to SQL</h2>"
   ]
  },
  {
   "cell_type": "code",
   "execution_count": 15,
   "metadata": {},
   "outputs": [
    {
     "name": "stderr",
     "output_type": "stream",
     "text": [
      "/Library/Frameworks/Python.framework/Versions/3.6/lib/python3.6/site-packages/psycopg2/__init__.py:144: UserWarning: The psycopg2 wheel package will be renamed from release 2.8; in order to keep installing from binary please use \"pip install psycopg2-binary\" instead. For details see: <http://initd.org/psycopg/docs/install.html#binary-install-from-pypi>.\n",
      "  \"\"\")\n"
     ]
    },
    {
     "name": "stdout",
     "output_type": "stream",
     "text": [
      "WARNING: 2 unhandled event pages. See unhandled_ids.csv\n"
     ]
    }
   ],
   "source": [
    "unhandled_ids = []\n",
    "\n",
    "for detail_id in ids:\n",
    "    elem = driver.find_element(By.ID, detail_id)\n",
    "    elem.click()\n",
    "\n",
    "    html = driver.page_source\n",
    "    event = Event(html)\n",
    "    try:\n",
    "        event = event.summarise()\n",
    "        event.sql_append()\n",
    "    except:\n",
    "        unhandled_ids.append(detail_id)\n",
    "    driver.back()\n",
    "\n",
    "pd.Series(unhandled_ids).to_csv('unhandled_ids', index = False)\n",
    "if unhandled_ids != []:\n",
    "    print(\"WARNING: {} unhandled event pages. See unhandled_ids.csv\".format(len(unhandled_ids)))"
   ]
  },
  {
   "cell_type": "code",
   "execution_count": 8,
   "metadata": {},
   "outputs": [],
   "source": [
    "driver.back()"
   ]
  },
  {
   "cell_type": "code",
   "execution_count": null,
   "metadata": {},
   "outputs": [],
   "source": []
  }
 ],
 "metadata": {
  "kernelspec": {
   "display_name": "Python 3",
   "language": "python",
   "name": "python3"
  },
  "language_info": {
   "codemirror_mode": {
    "name": "ipython",
    "version": 3
   },
   "file_extension": ".py",
   "mimetype": "text/x-python",
   "name": "python",
   "nbconvert_exporter": "python",
   "pygments_lexer": "ipython3",
   "version": "3.6.5"
  }
 },
 "nbformat": 4,
 "nbformat_minor": 2
}
