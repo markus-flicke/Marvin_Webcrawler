{
 "cells": [
  {
   "cell_type": "markdown",
   "metadata": {},
   "source": [
    "<h1>Generalisation:<br> For FB12/Gesamtangebot Informatik -> Get all data</h1>"
   ]
  },
  {
   "cell_type": "code",
   "execution_count": 1,
   "metadata": {},
   "outputs": [
    {
     "ename": "ImportError",
     "evalue": "No module named 'Classes'",
     "output_type": "error",
     "traceback": [
      "\u001b[0;31m---------------------------------------------------------------------------\u001b[0m",
      "\u001b[0;31mImportError\u001b[0m                               Traceback (most recent call last)",
      "\u001b[0;32m<ipython-input-1-582ac857f177>\u001b[0m in \u001b[0;36m<module>\u001b[0;34m()\u001b[0m\n\u001b[1;32m      1\u001b[0m \u001b[0;32mfrom\u001b[0m \u001b[0mselenium\u001b[0m \u001b[0;32mimport\u001b[0m \u001b[0mwebdriver\u001b[0m\u001b[0;34m\u001b[0m\u001b[0m\n\u001b[1;32m      2\u001b[0m \u001b[0;32mfrom\u001b[0m \u001b[0mselenium\u001b[0m\u001b[0;34m.\u001b[0m\u001b[0mwebdriver\u001b[0m\u001b[0;34m.\u001b[0m\u001b[0mcommon\u001b[0m\u001b[0;34m.\u001b[0m\u001b[0mby\u001b[0m \u001b[0;32mimport\u001b[0m \u001b[0mBy\u001b[0m\u001b[0;34m\u001b[0m\u001b[0m\n\u001b[0;32m----> 3\u001b[0;31m \u001b[0;32mfrom\u001b[0m \u001b[0mClasses\u001b[0m\u001b[0;34m.\u001b[0m\u001b[0mEvent\u001b[0m \u001b[0;32mimport\u001b[0m \u001b[0mEvent\u001b[0m\u001b[0;34m\u001b[0m\u001b[0m\n\u001b[0m\u001b[1;32m      4\u001b[0m \u001b[0;32mimport\u001b[0m \u001b[0mre\u001b[0m\u001b[0;34m\u001b[0m\u001b[0m\n\u001b[1;32m      5\u001b[0m \u001b[0;32mimport\u001b[0m \u001b[0mpandas\u001b[0m \u001b[0;32mas\u001b[0m \u001b[0mpd\u001b[0m\u001b[0;34m\u001b[0m\u001b[0m\n",
      "\u001b[0;31mImportError\u001b[0m: No module named 'Classes'"
     ]
    }
   ],
   "source": [
    "from selenium import webdriver\n",
    "from selenium.webdriver.common.by import By\n",
    "from Classes.Event import Event\n",
    "import re\n",
    "import pandas as pd"
   ]
  },
  {
   "cell_type": "markdown",
   "metadata": {},
   "source": [
    "<h2>Navigate to FB12</h2>"
   ]
  },
  {
   "cell_type": "code",
   "execution_count": null,
   "metadata": {},
   "outputs": [],
   "source": [
    "VORLESUNGSVERZEICHNIS = 'https://marvin.uni-marburg.de/qisserver/pages/cm/exa/coursecatalog/showCourseCatalog.xhtml?_flowId=showCourseCatalog-flow&_flowExecutionKey=e1s1'\n",
    "driver = webdriver.Chrome('./chromedriver')\n",
    "driver.get(VORLESUNGSVERZEICHNIS)\n",
    "\n",
    "# Select Informatik\n",
    "elements_old = driver.find_elements(By.XPATH, '//button')\n",
    "elements_old[15].click()\n",
    "elements = driver.find_elements(By.XPATH, '//button')\n",
    "while elements_old == elements:\n",
    "    elements = driver.find_elements(By.XPATH, '//button')"
   ]
  },
  {
   "cell_type": "markdown",
   "metadata": {},
   "source": [
    "<h2>Expand Gesamtangebot Informatik</h2>"
   ]
  },
  {
   "cell_type": "code",
   "execution_count": null,
   "metadata": {},
   "outputs": [],
   "source": [
    "def expandall_button_id(idx):\n",
    "    return 'hierarchy:courseCatalogFieldset:courseCatalog:0:8:{}:j_id_40_25_62_2_2_2_2_2_1:expandAll_button'.format(idx)"
   ]
  },
  {
   "cell_type": "code",
   "execution_count": null,
   "metadata": {},
   "outputs": [],
   "source": [
    "# Expand All\n",
    "for i in range(8):\n",
    "#     TODO: Generalise a way to find out N subtopics, required for future proof searching\n",
    "    pass\n",
    "\n",
    "for i in range(1,2):\n",
    "    eles = driver.find_elements(By.ID, expandall_button_id(i))\n",
    "    eles[0].click()\n",
    "    break"
   ]
  },
  {
   "cell_type": "markdown",
   "metadata": {},
   "source": [
    "<h2>Find all Event Page View IDs</h2>"
   ]
  },
  {
   "cell_type": "code",
   "execution_count": null,
   "metadata": {},
   "outputs": [],
   "source": [
    "def find_all_detail_view_ids(html):\n",
    "    id_pattern = \"hierarchy:courseCatalogFieldset:courseCatalog:[0-9]*?:[0-9]*?:[0-9]*?:[0-9]*?:[0-9]*?:showEventDateDetailView\"\n",
    "    return set(re.findall(id_pattern, html))"
   ]
  },
  {
   "cell_type": "code",
   "execution_count": null,
   "metadata": {},
   "outputs": [],
   "source": [
    "# POTENTIAL ERROR: Wait for Load required\n",
    "deklarative_programmierung_id = 'hierarchy:courseCatalogFieldset:courseCatalog:0:8:1:0:4:showEventDateDetailView'\n",
    "# TODO: Generalise a way to find Topic IDs\n",
    "ids = find_all_detail_view_ids(driver.page_source)"
   ]
  },
  {
   "cell_type": "markdown",
   "metadata": {},
   "source": [
    "<h2>Traverse Event Views and write data to SQL</h2>"
   ]
  },
  {
   "cell_type": "code",
   "execution_count": null,
   "metadata": {},
   "outputs": [],
   "source": [
    "unhandled_ids = []\n",
    "\n",
    "for detail_id in ids:\n",
    "    elem = driver.find_element(By.ID, detail_id)\n",
    "    elem.click()\n",
    "\n",
    "    html = driver.page_source\n",
    "    event = Event(html)\n",
    "    try:\n",
    "        event = event.summarise()\n",
    "        event.sql_upload()\n",
    "    except:\n",
    "        unhandled_ids.append(detail_id)\n",
    "    driver.back()\n",
    "\n",
    "pd.Series(unhandled_ids).to_csv('unhandled_ids', index = False)\n",
    "if unhandled_ids != []:\n",
    "    print(\"WARNING: {} unhandled event pages. see unhandled_ids.csv\".format(len(unhandled_ids)))"
   ]
  }
 ],
 "metadata": {
  "kernelspec": {
   "display_name": "Python 3",
   "language": "python",
   "name": "python3"
  },
  "language_info": {
   "codemirror_mode": {
    "name": "ipython",
    "version": 3
   },
   "file_extension": ".py",
   "mimetype": "text/x-python",
   "name": "python",
   "nbconvert_exporter": "python",
   "pygments_lexer": "ipython3",
   "version": "3.5.2"
  }
 },
 "nbformat": 4,
 "nbformat_minor": 2
}
